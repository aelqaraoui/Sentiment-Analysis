{
 "cells": [
  {
   "cell_type": "markdown",
   "metadata": {},
   "source": [
    "# Loading JSON data"
   ]
  },
  {
   "cell_type": "code",
   "execution_count": 1,
   "metadata": {},
   "outputs": [
    {
     "data": {
      "text/plain": [
       "14517"
      ]
     },
     "execution_count": 1,
     "metadata": {},
     "output_type": "execute_result"
    }
   ],
   "source": [
    "import json\n",
    "data = []\n",
    "with open('reviews.json', 'r') as fin:\n",
    "    data = json.load(fin)\n",
    "len(data)"
   ]
  },
  {
   "cell_type": "markdown",
   "metadata": {},
   "source": [
    "# Data preprocessing"
   ]
  },
  {
   "cell_type": "markdown",
   "metadata": {},
   "source": [
    "### Equally distribute data"
   ]
  },
  {
   "cell_type": "code",
   "execution_count": 2,
   "metadata": {},
   "outputs": [
    {
     "name": "stdout",
     "output_type": "stream",
     "text": [
      "1414\n"
     ]
    }
   ],
   "source": [
    "new_data = []\n",
    "#Counting number of rating below of equal 3 in data\n",
    "n = 0\n",
    "for review in data:\n",
    "    if(review['rating'] <= 3):\n",
    "        new_data.append(review)\n",
    "        n += 1;\n",
    "print(n)\n",
    "i = 0\n",
    "for review in data:\n",
    "    if(review['rating'] > 3 and i < n):\n",
    "        new_data.append(review)\n",
    "        i += 1"
   ]
  },
  {
   "cell_type": "code",
   "execution_count": 3,
   "metadata": {},
   "outputs": [],
   "source": [
    "#Shufle data since the we've put all the negative ones first\n",
    "import random\n",
    "random.shuffle(new_data)"
   ]
  },
  {
   "cell_type": "markdown",
   "metadata": {},
   "source": [
    "### Ratings above 3 are considered positive and others are considered negative"
   ]
  },
  {
   "cell_type": "code",
   "execution_count": 4,
   "metadata": {},
   "outputs": [
    {
     "data": {
      "text/html": [
       "<div>\n",
       "<style scoped>\n",
       "    .dataframe tbody tr th:only-of-type {\n",
       "        vertical-align: middle;\n",
       "    }\n",
       "\n",
       "    .dataframe tbody tr th {\n",
       "        vertical-align: top;\n",
       "    }\n",
       "\n",
       "    .dataframe thead th {\n",
       "        text-align: right;\n",
       "    }\n",
       "</style>\n",
       "<table border=\"1\" class=\"dataframe\">\n",
       "  <thead>\n",
       "    <tr style=\"text-align: right;\">\n",
       "      <th></th>\n",
       "      <th>text</th>\n",
       "      <th>sentiment</th>\n",
       "    </tr>\n",
       "  </thead>\n",
       "  <tbody>\n",
       "    <tr>\n",
       "      <th>0</th>\n",
       "      <td>I still love eating here at rositas,  the food...</td>\n",
       "      <td>POSITIVE</td>\n",
       "    </tr>\n",
       "    <tr>\n",
       "      <th>1</th>\n",
       "      <td>Absolutely fantastic!!! The staff was amazing ...</td>\n",
       "      <td>POSITIVE</td>\n",
       "    </tr>\n",
       "    <tr>\n",
       "      <th>2</th>\n",
       "      <td>After not having the greatest experience the f...</td>\n",
       "      <td>POSITIVE</td>\n",
       "    </tr>\n",
       "    <tr>\n",
       "      <th>3</th>\n",
       "      <td>Wow, what a wonderful coffee shop! If your loo...</td>\n",
       "      <td>POSITIVE</td>\n",
       "    </tr>\n",
       "    <tr>\n",
       "      <th>4</th>\n",
       "      <td>Came here on a Monday for dinner with my frien...</td>\n",
       "      <td>NEGATIVE</td>\n",
       "    </tr>\n",
       "  </tbody>\n",
       "</table>\n",
       "</div>"
      ],
      "text/plain": [
       "                                                text sentiment\n",
       "0  I still love eating here at rositas,  the food...  POSITIVE\n",
       "1  Absolutely fantastic!!! The staff was amazing ...  POSITIVE\n",
       "2  After not having the greatest experience the f...  POSITIVE\n",
       "3  Wow, what a wonderful coffee shop! If your loo...  POSITIVE\n",
       "4  Came here on a Monday for dinner with my frien...  NEGATIVE"
      ]
     },
     "execution_count": 4,
     "metadata": {},
     "output_type": "execute_result"
    }
   ],
   "source": [
    "import pandas as pd\n",
    "df = pd.DataFrame(new_data)\n",
    "df['sentiment'] = df['rating'].apply(lambda x: \"NEGATIVE\" if(x <= 3) else \"POSITIVE\")\n",
    "df = df.drop(['rating'], axis=1)\n",
    "df.head()"
   ]
  },
  {
   "cell_type": "markdown",
   "metadata": {},
   "source": [
    "### Vectorize the text data"
   ]
  },
  {
   "cell_type": "code",
   "execution_count": 5,
   "metadata": {},
   "outputs": [],
   "source": [
    "from sklearn.feature_extraction.text import CountVectorizer\n",
    "vectorizer = CountVectorizer()\n",
    "X = vectorizer.fit_transform(df['text']).toarray()\n",
    "y = df['sentiment']"
   ]
  },
  {
   "cell_type": "markdown",
   "metadata": {},
   "source": [
    "### Train/Test Split"
   ]
  },
  {
   "cell_type": "code",
   "execution_count": 6,
   "metadata": {},
   "outputs": [],
   "source": [
    "from sklearn.model_selection import train_test_split\n",
    "X_train, X_test, y_train, y_test = train_test_split(X, y, test_size=0.30, random_state=42)"
   ]
  },
  {
   "cell_type": "markdown",
   "metadata": {},
   "source": [
    "# Training the models"
   ]
  },
  {
   "cell_type": "code",
   "execution_count": 7,
   "metadata": {},
   "outputs": [
    {
     "data": {
      "text/plain": [
       "MLPClassifier(max_iter=300, random_state=1)"
      ]
     },
     "execution_count": 7,
     "metadata": {},
     "output_type": "execute_result"
    }
   ],
   "source": [
    "#SVM\n",
    "from sklearn import svm\n",
    "clf_svm = svm.SVC()\n",
    "clf_svm.fit(X_train, y_train)\n",
    "\n",
    "#KNeighbors\n",
    "from sklearn.neighbors import KNeighborsClassifier\n",
    "clf_neigh = KNeighborsClassifier(n_neighbors=3)\n",
    "clf_neigh.fit(X_train, y_train)\n",
    "\n",
    "#DecisionTree\n",
    "from sklearn.tree import DecisionTreeClassifier\n",
    "clf_deci = DecisionTreeClassifier(random_state=0)\n",
    "clf_deci.fit(X_train, y_train)\n",
    "\n",
    "#RandomForest\n",
    "from sklearn.ensemble import RandomForestClassifier\n",
    "clf_rndfr = RandomForestClassifier(random_state=0)\n",
    "clf_rndfr.fit(X_train, y_train)\n",
    "\n",
    "#NaiveBayes\n",
    "from sklearn.naive_bayes import GaussianNB\n",
    "clf_nb = GaussianNB()\n",
    "clf_nb.fit(X_train, y_train)\n",
    "\n",
    "#MLP\n",
    "from sklearn.neural_network import MLPClassifier\n",
    "clf_mlp = MLPClassifier(random_state=1, max_iter=300)\n",
    "clf_mlp.fit(X_train, y_train)"
   ]
  },
  {
   "cell_type": "markdown",
   "metadata": {},
   "source": [
    "# Testing the models"
   ]
  },
  {
   "cell_type": "markdown",
   "metadata": {},
   "source": [
    "### Accuracy of models"
   ]
  },
  {
   "cell_type": "code",
   "execution_count": 8,
   "metadata": {},
   "outputs": [
    {
     "name": "stdout",
     "output_type": "stream",
     "text": [
      "SVM Accuracy :  0.7879858657243817\n",
      "KNeighbors Accuracy :  0.5606595995288575\n",
      "DecisionTree Accuracy :  0.71849234393404\n",
      "RandomForest Accuracy :  0.7974087161366313\n",
      "NaiveBayes Accuracy :  0.6725559481743227\n",
      "MLP Accuracy :  0.7915194346289752\n"
     ]
    }
   ],
   "source": [
    "print(\"SVM Accuracy : \", clf_svm.score(X_test, y_test))\n",
    "print(\"KNeighbors Accuracy : \", clf_neigh.score(X_test, y_test))\n",
    "print(\"DecisionTree Accuracy : \", clf_deci.score(X_test, y_test))\n",
    "print(\"RandomForest Accuracy : \", clf_rndfr.score(X_test, y_test))\n",
    "print(\"NaiveBayes Accuracy : \", clf_nb.score(X_test, y_test))\n",
    "print(\"MLP Accuracy : \", clf_mlp.score(X_test, y_test))"
   ]
  },
  {
   "cell_type": "markdown",
   "metadata": {},
   "source": [
    "### F1 Scores"
   ]
  },
  {
   "cell_type": "code",
   "execution_count": 9,
   "metadata": {},
   "outputs": [
    {
     "name": "stdout",
     "output_type": "stream",
     "text": [
      "SVM F1 Score :  [0.77832512 0.79683973]\n",
      "KNeighbors F1 Score :  [0.64976526 0.4107425 ]\n",
      "DecisionTree F1 Score :  [0.72933182 0.70674847]\n",
      "RandomForest F1 Score :  [0.79425837 0.80046404]\n",
      "NaiveBayes F1 Score :  [0.71516393 0.61495845]\n",
      "MLP F1 Score :  [0.7920094  0.79102715]\n"
     ]
    }
   ],
   "source": [
    "from sklearn.metrics import f1_score\n",
    "print(\"SVM F1 Score : \", f1_score(y_test, clf_svm.predict(X_test), average=None, labels=[\"POSITIVE\", \"NEGATIVE\"]))\n",
    "print(\"KNeighbors F1 Score : \", f1_score(y_test, clf_neigh.predict(X_test), average=None, labels=[\"POSITIVE\", \"NEGATIVE\"]))\n",
    "print(\"DecisionTree F1 Score : \", f1_score(y_test, clf_deci.predict(X_test), average=None, labels=[\"POSITIVE\", \"NEGATIVE\"]))\n",
    "print(\"RandomForest F1 Score : \", f1_score(y_test, clf_rndfr.predict(X_test), average=None, labels=[\"POSITIVE\", \"NEGATIVE\"]))\n",
    "print(\"NaiveBayes F1 Score : \", f1_score(y_test, clf_nb.predict(X_test), average=None, labels=[\"POSITIVE\", \"NEGATIVE\"]))\n",
    "print(\"MLP F1 Score : \", f1_score(y_test, clf_mlp.predict(X_test), average=None, labels=[\"POSITIVE\", \"NEGATIVE\"]))"
   ]
  },
  {
   "cell_type": "code",
   "execution_count": null,
   "metadata": {},
   "outputs": [],
   "source": []
  }
 ],
 "metadata": {
  "kernelspec": {
   "display_name": "Python 3",
   "language": "python",
   "name": "python3"
  },
  "language_info": {
   "codemirror_mode": {
    "name": "ipython",
    "version": 3
   },
   "file_extension": ".py",
   "mimetype": "text/x-python",
   "name": "python",
   "nbconvert_exporter": "python",
   "pygments_lexer": "ipython3",
   "version": "3.8.5"
  }
 },
 "nbformat": 4,
 "nbformat_minor": 4
}
